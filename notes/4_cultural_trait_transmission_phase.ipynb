{
 "cells": [
  {
   "cell_type": "markdown",
   "metadata": {},
   "source": [
    "# 文化形質伝達フェーズ\n",
    "### リファレンス\n",
    "- [はじめての自然言語処理](https://www.ogis-ri.co.jp/otc/hiroba/technical/similar-document-search/part5.html)\n",
    "- [pke を使ってキーフレーズの抽出をする](https://blog.foresta.me/posts/keyphrase-extract-with-pke/)"
   ]
  },
  {
   "cell_type": "code",
   "execution_count": 2,
   "metadata": {},
   "outputs": [
    {
     "name": "stdout",
     "output_type": "stream",
     "text": [
      "<frozen runpy>:128: RuntimeWarning: 'nltk.downloader' found in sys.modules after import of package 'nltk', but prior to execution of 'nltk.downloader'; this may result in unpredictable behaviour\n",
      "[nltk_data] Downloading package stopwords to\n",
      "[nltk_data]     /Users/yoshino/nltk_data...\n",
      "[nltk_data]   Package stopwords is already up-to-date!\n"
     ]
    }
   ],
   "source": [
    "!python -m nltk.downloader stopwords"
   ]
  },
  {
   "cell_type": "code",
   "execution_count": 3,
   "metadata": {},
   "outputs": [],
   "source": [
    "import pke\n",
    "pke.lang.stopwords['ja_ginza'] = 'japanese'"
   ]
  },
  {
   "cell_type": "code",
   "execution_count": 8,
   "metadata": {},
   "outputs": [
    {
     "name": "stderr",
     "output_type": "stream",
     "text": [
      "WARNING:root:No stoplist available in pke for 'ja' language.\n"
     ]
    },
    {
     "name": "stdout",
     "output_type": "stream",
     "text": [
      "[('frog', 0.07483207220311465), ('オタマジャクシ', 0.07038832635804865), ('お玉杓子', 0.06470054556322831), ('ヒキガエル', 0.048130474091594086), ('toad', 0.04156331662296362), ('大きく', 0.039924250938472045), ('かはづ', 0.03955728873532315), ('大きい', 0.03919610843225953), ('大きめ', 0.03883448506942522), ('かわず', 0.03710960959101426)]\n"
     ]
    }
   ],
   "source": [
    "import ginza\n",
    "import nltk\n",
    "from spacy.lang import ja\n",
    "\n",
    "stopwords = list(ja.STOP_WORDS)\n",
    "nltk.corpus.stopwords.words_org = nltk.corpus.stopwords.words\n",
    "nltk.corpus.stopwords.words = lambda lang : stopwords if lang == 'japanese' else nltk.corpus.stopwords.words_olg(lang)\n",
    "\n",
    "# Wikipedia カエルより引用\n",
    "# https://ja.wikipedia.org/wiki/%E3%82%AB%E3%82%A8%E3%83%AB \n",
    "text = (\"カエル（蛙、英語: Frog）は、両生綱無尾目（むびもく、Anura）に分類される構成種の総称。古称としてかわず（旧かな表記では「かはづ」）などがある。英名は一般にはfrogであるが，ヒキガエルのような外観のものをtoadと呼ぶことが多い。\"\n",
    "\"成体の頭は三角形で、目は上に飛び出している。一見すると頭部には種による差異がないようにも思えるが、実際には天敵対策のために毒液を流し込む鋭い棘を発達させた種や、大きめの獲物を飲み込めるように大きく裂けた顎を持つ種など、種ごとの違いが大きい。中には頭部をヘルメットのように活用して巣穴に蓋をする種もいる。極わずかの例外を除き、上顎にしか歯が生えていない。が歯が無い種類でも、牙状の突起を進化させたものが少なくない[3]。獲物を飲み込む際には、目玉を引っ込めて強制的に喉の奥へ押し込む。\"\n",
    "\"胴体は丸っこく、尻尾は幼体にしか存在しない。ほとんどの種で肋骨がない。\"\n",
    "\"後肢が特に発達しており、後肢でジャンプすることで、敵から逃げたり、エサを捕まえたりする。後肢の指の間に水掻きが発達するものが多く、これを使ってよく泳ぐ。\"\n",
    "\"前肢は人間の腕に似た形状をしている。ジャンプからの着地の際に身体への衝撃を和らげるのが主な役目である。餌となる小動物に飛びついて両肢で押さえつけたり、冬眠などのために土砂を掘ったり、汚れ落としのために片肢で顔を拭いたりする動作も可能である。アオガエル科やアマガエル科などの樹上生活をする種の多くでは指先に吸盤が発達し、その補助で細い枝などに掴まることができる。人間や猿のように物を片肢ないし両肢で掴み取ることはできない。\"\n",
    "\"幼生は四肢がなく、ひれのついた尾をもつ。成体とは違う姿をしていて、俗に「オタマジャクシ（お玉杓子）」と呼ばれる（食器のお玉杓子に似た形状から）。オタマジャクシはえら呼吸を行い、尾を使って泳ぐため、淡水中でないと生きることができない。オタマジャクシは変態することで、尾をもたず肺呼吸する、四肢をもった幼体（仔ガエル）となる。\"\n",
    ")\n",
    "\n",
    "extractor = pke.unsupervised.TopicRank()\n",
    "\n",
    "# normalization=None を指定しないと，デフォルトの Stemming 処理が走りそれが日本語未対応のためエラーになる\n",
    "extractor.load_document(input=text, language = 'ja', normalization=None)\n",
    "\n",
    "extractor.candidate_selection(pos={'NOUN', 'PROPN', 'ADJ', 'NUM'})\n",
    "extractor.candidate_weighting()\n",
    "\n",
    "keyphrases = extractor.get_n_best(n = 10)\n",
    "\n",
    "print(keyphrases)"
   ]
  }
 ],
 "metadata": {
  "kernelspec": {
   "display_name": ".venv",
   "language": "python",
   "name": "python3"
  },
  "language_info": {
   "codemirror_mode": {
    "name": "ipython",
    "version": 3
   },
   "file_extension": ".py",
   "mimetype": "text/x-python",
   "name": "python",
   "nbconvert_exporter": "python",
   "pygments_lexer": "ipython3",
   "version": "3.11.2"
  }
 },
 "nbformat": 4,
 "nbformat_minor": 2
}
