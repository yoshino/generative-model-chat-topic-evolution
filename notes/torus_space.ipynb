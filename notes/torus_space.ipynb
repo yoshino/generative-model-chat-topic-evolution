{
 "cells": [
  {
   "cell_type": "markdown",
   "metadata": {},
   "source": [
    "# 二次元トーラス空間"
   ]
  },
  {
   "cell_type": "code",
   "execution_count": 3,
   "metadata": {},
   "outputs": [],
   "source": [
    "def move_within_bounds(current_coords, move_coords, width=100, height=100):\n",
    "    x, y = current_coords\n",
    "    dx, dy = move_coords\n",
    "\n",
    "    # 移動後の座標を計算\n",
    "    new_x = (x + dx) % width\n",
    "    new_y = (y + dy) % height\n",
    "\n",
    "    return new_x, new_y"
   ]
  },
  {
   "cell_type": "code",
   "execution_count": 2,
   "metadata": {},
   "outputs": [
    {
     "name": "stdout",
     "output_type": "stream",
     "text": [
      "移動後の座標: (5, 0)\n"
     ]
    }
   ],
   "source": [
    "# 使用例\n",
    "current_coords = (95, 0)\n",
    "move_coords = (10, 0)\n",
    "\n",
    "new_coords = move_within_bounds(current_coords, move_coords)\n",
    "print(\"移動後の座標:\", new_coords)"
   ]
  },
  {
   "cell_type": "code",
   "execution_count": 4,
   "metadata": {},
   "outputs": [
    {
     "name": "stdout",
     "output_type": "stream",
     "text": [
      "移動後の座標: (95, 10)\n"
     ]
    }
   ],
   "source": [
    "# 使用例\n",
    "current_coords = (95, 0)\n",
    "move_coords = (0, 110)\n",
    "\n",
    "new_coords = move_within_bounds(current_coords, move_coords)\n",
    "print(\"移動後の座標:\", new_coords)"
   ]
  },
  {
   "cell_type": "code",
   "execution_count": 5,
   "metadata": {},
   "outputs": [
    {
     "name": "stdout",
     "output_type": "stream",
     "text": [
      "移動後の座標: (95, 90)\n"
     ]
    }
   ],
   "source": [
    "# 使用例\n",
    "current_coords = (95, 0)\n",
    "move_coords = (0, -110)\n",
    "\n",
    "new_coords = move_within_bounds(current_coords, move_coords)\n",
    "print(\"移動後の座標:\", new_coords)"
   ]
  }
 ],
 "metadata": {
  "kernelspec": {
   "display_name": ".venv",
   "language": "python",
   "name": "python3"
  },
  "language_info": {
   "codemirror_mode": {
    "name": "ipython",
    "version": 3
   },
   "file_extension": ".py",
   "mimetype": "text/x-python",
   "name": "python",
   "nbconvert_exporter": "python",
   "pygments_lexer": "ipython3",
   "version": "3.11.2"
  }
 },
 "nbformat": 4,
 "nbformat_minor": 2
}
